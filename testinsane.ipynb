{
 "cells": [
  {
   "cell_type": "code",
   "execution_count": 3,
   "metadata": {},
   "outputs": [
    {
     "name": "stdout",
     "output_type": "stream",
     "text": [
      "[2]testing lipid CHOL in membrane hNET_neuronal...create...compile...minimize\u001b[32m=[success]\u001b[30m: 12.11 secs\n",
      "[1]testing lipid POPC in membrane hNET_neuronal...create...compile...minimize\u001b[32m=[success]\u001b[30m: 5.61 secs\n",
      "\n",
      "Insane:/home/richard/Desktop/projects/hNET_neuronal/debug/insane2015.py\n",
      "\u001b[32mMinimized 2 lipids: \u001b[30m['CHOL', 'POPC']\n",
      "\u001b[31mFailed to minimize 0 lipids: \u001b[30m\n",
      "[]\n",
      "Summaries of failed minimizations:\n",
      "[]\n"
     ]
    },
    {
     "data": {
      "text/plain": [
       "<__main__.testlipids at 0x7f69e8738d10>"
      ]
     },
     "execution_count": 3,
     "metadata": {},
     "output_type": "execute_result"
    }
   ],
   "source": [
    "%run testlipids.ipynb\n",
    "\n",
    "testlipids([\"CHOL\",\"POPC\"],\"hNET_neuronal\",\"../debug/insane2015.py\",\"./test.mdp\",\"./martini.ff\").execute(True).report()"
   ]
  },
  {
   "cell_type": "code",
   "execution_count": null,
   "metadata": {},
   "outputs": [],
   "source": []
  }
 ],
 "metadata": {
  "kernelspec": {
   "display_name": "Python 3",
   "language": "python",
   "name": "python3"
  },
  "language_info": {
   "codemirror_mode": {
    "name": "ipython",
    "version": 3
   },
   "file_extension": ".py",
   "mimetype": "text/x-python",
   "name": "python",
   "nbconvert_exporter": "python",
   "pygments_lexer": "ipython3",
   "version": "3.7.4"
  }
 },
 "nbformat": 4,
 "nbformat_minor": 2
}
